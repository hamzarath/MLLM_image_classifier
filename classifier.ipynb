{
 "cells": [
  {
   "cell_type": "code",
   "execution_count": null,
   "metadata": {},
   "outputs": [
    {
     "name": "stdout",
     "output_type": "stream",
     "text": [
      "Image: 0.png | True: clean | Predicted: clean\n"
     ]
    }
   ],
   "source": [
    "import os\n",
    "import base64\n",
    "from openai import OpenAI\n",
    "from sklearn.metrics import precision_score, recall_score\n",
    "\n",
    "# Point to your local LM Studio endpoint\n",
    "client = OpenAI(base_url=\"http://localhost:1234/v1\", api_key=\"lm-studio\")\n",
    "\n",
    "def encode_image(image_path):\n",
    "    with open(image_path, \"rb\") as image_file:\n",
    "        return base64.b64encode(image_file.read()).decode('utf-8')\n",
    "\n",
    "def classify_image(image_path):\n",
    "    image_base64 = encode_image(image_path)\n",
    "    completion = client.chat.completions.create(\n",
    "        model=\"gemma-3-12b-it\",\n",
    "        messages=[\n",
    "            {\"role\": \"system\", \"content\": \"Classify the image as 'clean' or 'messy'. Reply only with 'clean' or 'messy'.\"},\n",
    "            {\"role\": \"user\", \"content\": [\n",
    "                {\"type\": \"image_url\", \"image_url\": {\"url\": f\"data:image/jpeg;base64,{image_base64}\"}}\n",
    "            ]}\n",
    "        ],\n",
    "        temperature=0.1,\n",
    "    )\n",
    "    return completion.choices[0].message.content.strip().lower()\n",
    "\n",
    "# Paths to images\n",
    "base_dir = './images'\n",
    "categories = ['clean', 'messy']\n",
    "y_true, y_pred = [], []\n",
    "\n",
    "# Classify images\n",
    "for category in categories:\n",
    "    folder = os.path.join(base_dir, category)\n",
    "    for img_name in os.listdir(folder):\n",
    "        img_path = os.path.join(folder, img_name)\n",
    "        prediction = classify_image(img_path)\n",
    "        y_true.append(category)\n",
    "        y_pred.append(prediction)\n",
    "        print(f\"Image: {img_name} | True: {category} | Predicted: {prediction}\")\n",
    "\n",
    "# Evaluate\n",
    "precision = precision_score(y_true, y_pred, pos_label='clean')\n",
    "recall = recall_score(y_true, y_pred, pos_label='clean')\n",
    "\n",
    "print(f\"\\nPrecision (clean): {precision:.2f}\")\n",
    "print(f\"Recall (clean): {recall:.2f}\")\n"
   ]
  },
  {
   "cell_type": "code",
   "execution_count": null,
   "metadata": {},
   "outputs": [
    {
     "name": "stdout",
     "output_type": "stream",
     "text": [
      "Found existing installation: numpy 2.2.4\n",
      "Uninstalling numpy-2.2.4:\n",
      "  Successfully uninstalled numpy-2.2.4\n"
     ]
    },
    {
     "name": "stderr",
     "output_type": "stream",
     "text": [
      "WARNING: Failed to remove contents in a temporary directory 'C:\\Users\\hamza\\anaconda3\\Lib\\site-packages\\~umpy.libs'.\n",
      "You can safely remove it manually.\n",
      "WARNING: Failed to remove contents in a temporary directory 'C:\\Users\\hamza\\anaconda3\\Lib\\site-packages\\~umpy'.\n",
      "You can safely remove it manually.\n"
     ]
    },
    {
     "name": "stdout",
     "output_type": "stream",
     "text": [
      "Collecting numpy<2\n",
      "  Downloading numpy-1.26.4-cp312-cp312-win_amd64.whl.metadata (61 kB)\n",
      "Downloading numpy-1.26.4-cp312-cp312-win_amd64.whl (15.5 MB)\n",
      "   ---------------------------------------- 0.0/15.5 MB ? eta -:--:--\n",
      "   ----------------- ---------------------- 6.8/15.5 MB 34.9 MB/s eta 0:00:01\n",
      "   ---------------------------------------- 15.5/15.5 MB 46.5 MB/s eta 0:00:00\n",
      "Installing collected packages: numpy\n",
      "Successfully installed numpy-1.26.4\n"
     ]
    },
    {
     "name": "stderr",
     "output_type": "stream",
     "text": [
      "ERROR: pip's dependency resolver does not currently take into account all the packages that are installed. This behaviour is the source of the following dependency conflicts.\n",
      "openai 1.68.0 requires numpy>=2.0.2, but you have numpy 1.26.4 which is incompatible.\n"
     ]
    }
   ],
   "source": [
    "!pip uninstall numpy -y\n",
    "!pip install \"numpy<2\""
   ]
  },
  {
   "cell_type": "code",
   "execution_count": null,
   "metadata": {},
   "outputs": [],
   "source": []
  }
 ],
 "metadata": {
  "kernelspec": {
   "display_name": "base",
   "language": "python",
   "name": "python3"
  },
  "language_info": {
   "codemirror_mode": {
    "name": "ipython",
    "version": 3
   },
   "file_extension": ".py",
   "mimetype": "text/x-python",
   "name": "python",
   "nbconvert_exporter": "python",
   "pygments_lexer": "ipython3",
   "version": "3.12.7"
  }
 },
 "nbformat": 4,
 "nbformat_minor": 2
}
